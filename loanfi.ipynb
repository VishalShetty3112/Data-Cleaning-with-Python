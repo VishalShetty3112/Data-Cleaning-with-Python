{
 "cells": [
  {
   "cell_type": "markdown",
   "id": "b29c43c3-f800-4ccf-9e9b-a1da8beb2d5a",
   "metadata": {},
   "source": [
    "# LOAN DATA"
   ]
  },
  {
   "cell_type": "code",
   "execution_count": 1,
   "id": "9ff00c0b-b876-4d07-bbc8-996b04e9ce65",
   "metadata": {},
   "outputs": [],
   "source": [
    "import pandas as pd\n",
    "import numpy as np"
   ]
  },
  {
   "cell_type": "markdown",
   "id": "0dde17d1-5dc1-452d-bec6-2d09276b46da",
   "metadata": {},
   "source": [
    "### Load Data"
   ]
  },
  {
   "cell_type": "code",
   "execution_count": 2,
   "id": "2efa5dc1-a34c-4184-b2e1-5b238e8c08b2",
   "metadata": {},
   "outputs": [],
   "source": [
    "df = pd.read_csv('C:/DATA ANALYST/A Final Project/loan.csv')"
   ]
  },
  {
   "cell_type": "code",
   "execution_count": 3,
   "id": "5eeec17d-b646-4f3a-b5d2-f7867f99ce4f",
   "metadata": {},
   "outputs": [
    {
     "data": {
      "text/plain": [
       "(615, 13)"
      ]
     },
     "execution_count": 3,
     "metadata": {},
     "output_type": "execute_result"
    }
   ],
   "source": [
    "df.shape"
   ]
  },
  {
   "cell_type": "markdown",
   "id": "f41e35ce-9beb-463b-a1c8-c7d2f1107c46",
   "metadata": {},
   "source": [
    "### Understand Data"
   ]
  },
  {
   "cell_type": "code",
   "execution_count": 4,
   "id": "6d603b35-9f03-411d-876e-d256f431e1f7",
   "metadata": {},
   "outputs": [
    {
     "data": {
      "text/html": [
       "<div>\n",
       "<style scoped>\n",
       "    .dataframe tbody tr th:only-of-type {\n",
       "        vertical-align: middle;\n",
       "    }\n",
       "\n",
       "    .dataframe tbody tr th {\n",
       "        vertical-align: top;\n",
       "    }\n",
       "\n",
       "    .dataframe thead th {\n",
       "        text-align: right;\n",
       "    }\n",
       "</style>\n",
       "<table border=\"1\" class=\"dataframe\">\n",
       "  <thead>\n",
       "    <tr style=\"text-align: right;\">\n",
       "      <th></th>\n",
       "      <th>UID</th>\n",
       "      <th>Marital_status</th>\n",
       "      <th>Dependents</th>\n",
       "      <th>Is_graduate</th>\n",
       "      <th>Income</th>\n",
       "      <th>Loan_amount</th>\n",
       "      <th>Term_months</th>\n",
       "      <th>Credit_score</th>\n",
       "      <th>approval_status</th>\n",
       "      <th>Age</th>\n",
       "      <th>Sex</th>\n",
       "      <th>Purpose</th>\n",
       "      <th>Hobby</th>\n",
       "    </tr>\n",
       "  </thead>\n",
       "  <tbody>\n",
       "    <tr>\n",
       "      <th>0</th>\n",
       "      <td>LP001002</td>\n",
       "      <td>NO</td>\n",
       "      <td>0</td>\n",
       "      <td>Graduate</td>\n",
       "      <td>45848</td>\n",
       "      <td>NaN</td>\n",
       "      <td>360.0</td>\n",
       "      <td>1.0</td>\n",
       "      <td>0</td>\n",
       "      <td>40.0</td>\n",
       "      <td>Male</td>\n",
       "      <td>Education</td>\n",
       "      <td>Reading</td>\n",
       "    </tr>\n",
       "    <tr>\n",
       "      <th>1</th>\n",
       "      <td>LP001002</td>\n",
       "      <td>NO</td>\n",
       "      <td>0</td>\n",
       "      <td>Graduate</td>\n",
       "      <td>45848</td>\n",
       "      <td>NaN</td>\n",
       "      <td>360.0</td>\n",
       "      <td>1.0</td>\n",
       "      <td>0</td>\n",
       "      <td>40.0</td>\n",
       "      <td>Male</td>\n",
       "      <td>Education</td>\n",
       "      <td>Reading</td>\n",
       "    </tr>\n",
       "    <tr>\n",
       "      <th>2</th>\n",
       "      <td>LP001003</td>\n",
       "      <td>YES</td>\n",
       "      <td>1</td>\n",
       "      <td>Graduate</td>\n",
       "      <td>15325</td>\n",
       "      <td>128.0</td>\n",
       "      <td>360.0</td>\n",
       "      <td>1.0</td>\n",
       "      <td>1</td>\n",
       "      <td>22.0</td>\n",
       "      <td>Male</td>\n",
       "      <td>Education</td>\n",
       "      <td>Reading</td>\n",
       "    </tr>\n",
       "    <tr>\n",
       "      <th>3</th>\n",
       "      <td>LP001005</td>\n",
       "      <td>YES</td>\n",
       "      <td>0</td>\n",
       "      <td>Graduate</td>\n",
       "      <td>29105</td>\n",
       "      <td>66.0</td>\n",
       "      <td>360.0</td>\n",
       "      <td>1.0</td>\n",
       "      <td>0</td>\n",
       "      <td>27.0</td>\n",
       "      <td>Male</td>\n",
       "      <td>Education</td>\n",
       "      <td>Reading</td>\n",
       "    </tr>\n",
       "    <tr>\n",
       "      <th>4</th>\n",
       "      <td>LP001006</td>\n",
       "      <td>YES</td>\n",
       "      <td>0</td>\n",
       "      <td>Not Graduate</td>\n",
       "      <td>42944</td>\n",
       "      <td>120.0</td>\n",
       "      <td>360.0</td>\n",
       "      <td>1.0</td>\n",
       "      <td>0</td>\n",
       "      <td>36.0</td>\n",
       "      <td>F</td>\n",
       "      <td>Education</td>\n",
       "      <td>Reading</td>\n",
       "    </tr>\n",
       "  </tbody>\n",
       "</table>\n",
       "</div>"
      ],
      "text/plain": [
       "        UID Marital_status Dependents   Is_graduate  Income  Loan_amount  \\\n",
       "0  LP001002             NO          0      Graduate   45848          NaN   \n",
       "1  LP001002             NO          0      Graduate   45848          NaN   \n",
       "2  LP001003            YES          1      Graduate   15325        128.0   \n",
       "3  LP001005            YES          0      Graduate   29105         66.0   \n",
       "4  LP001006            YES          0  Not Graduate   42944        120.0   \n",
       "\n",
       "   Term_months  Credit_score  approval_status   Age   Sex    Purpose    Hobby  \n",
       "0        360.0           1.0                0  40.0  Male  Education  Reading  \n",
       "1        360.0           1.0                0  40.0  Male  Education  Reading  \n",
       "2        360.0           1.0                1  22.0  Male  Education  Reading  \n",
       "3        360.0           1.0                0  27.0  Male  Education  Reading  \n",
       "4        360.0           1.0                0  36.0     F  Education  Reading  "
      ]
     },
     "execution_count": 4,
     "metadata": {},
     "output_type": "execute_result"
    }
   ],
   "source": [
    "df.head()"
   ]
  },
  {
   "cell_type": "code",
   "execution_count": 40,
   "id": "bc367800-d35e-4d73-8f88-40b385c157c9",
   "metadata": {},
   "outputs": [
    {
     "name": "stdout",
     "output_type": "stream",
     "text": [
      "<class 'pandas.core.frame.DataFrame'>\n",
      "RangeIndex: 615 entries, 0 to 614\n",
      "Data columns (total 13 columns):\n",
      " #   Column           Non-Null Count  Dtype  \n",
      "---  ------           --------------  -----  \n",
      " 0   UID              615 non-null    object \n",
      " 1   Marital_status   613 non-null    object \n",
      " 2   Dependents       600 non-null    object \n",
      " 3   Is_graduate      613 non-null    object \n",
      " 4   Income           615 non-null    int64  \n",
      " 5   Loan_amount      592 non-null    float64\n",
      " 6   Term_months      601 non-null    float64\n",
      " 7   Credit_score     565 non-null    float64\n",
      " 8   approval_status  615 non-null    int64  \n",
      " 9   Age              609 non-null    float64\n",
      " 10  Sex              602 non-null    object \n",
      " 11  Purpose          615 non-null    object \n",
      " 12  Hobby            615 non-null    object \n",
      "dtypes: float64(4), int64(2), object(7)\n",
      "memory usage: 62.6+ KB\n"
     ]
    }
   ],
   "source": [
    "df.info()"
   ]
  },
  {
   "cell_type": "code",
   "execution_count": 65,
   "id": "72bdce84-c898-4d20-aa34-79fbb8353d9c",
   "metadata": {},
   "outputs": [
    {
     "data": {
      "text/html": [
       "<div>\n",
       "<style scoped>\n",
       "    .dataframe tbody tr th:only-of-type {\n",
       "        vertical-align: middle;\n",
       "    }\n",
       "\n",
       "    .dataframe tbody tr th {\n",
       "        vertical-align: top;\n",
       "    }\n",
       "\n",
       "    .dataframe thead th {\n",
       "        text-align: right;\n",
       "    }\n",
       "</style>\n",
       "<table border=\"1\" class=\"dataframe\">\n",
       "  <thead>\n",
       "    <tr style=\"text-align: right;\">\n",
       "      <th></th>\n",
       "      <th>Income</th>\n",
       "      <th>Loan_amount</th>\n",
       "      <th>Term_months</th>\n",
       "      <th>Credit_score</th>\n",
       "      <th>approval_status</th>\n",
       "      <th>Age</th>\n",
       "    </tr>\n",
       "  </thead>\n",
       "  <tbody>\n",
       "    <tr>\n",
       "      <th>count</th>\n",
       "      <td>6.150000e+02</td>\n",
       "      <td>592.000000</td>\n",
       "      <td>601.000000</td>\n",
       "      <td>565.000000</td>\n",
       "      <td>615.000000</td>\n",
       "      <td>609.000000</td>\n",
       "    </tr>\n",
       "    <tr>\n",
       "      <th>mean</th>\n",
       "      <td>1.896745e+05</td>\n",
       "      <td>146.412162</td>\n",
       "      <td>342.029950</td>\n",
       "      <td>0.842478</td>\n",
       "      <td>0.487805</td>\n",
       "      <td>38.067323</td>\n",
       "    </tr>\n",
       "    <tr>\n",
       "      <th>std</th>\n",
       "      <td>4.031317e+06</td>\n",
       "      <td>85.587325</td>\n",
       "      <td>65.070263</td>\n",
       "      <td>0.364615</td>\n",
       "      <td>0.500258</td>\n",
       "      <td>10.471628</td>\n",
       "    </tr>\n",
       "    <tr>\n",
       "      <th>min</th>\n",
       "      <td>5.001000e+03</td>\n",
       "      <td>9.000000</td>\n",
       "      <td>12.000000</td>\n",
       "      <td>0.000000</td>\n",
       "      <td>0.000000</td>\n",
       "      <td>-12.000000</td>\n",
       "    </tr>\n",
       "    <tr>\n",
       "      <th>25%</th>\n",
       "      <td>1.613200e+04</td>\n",
       "      <td>100.000000</td>\n",
       "      <td>360.000000</td>\n",
       "      <td>1.000000</td>\n",
       "      <td>0.000000</td>\n",
       "      <td>29.000000</td>\n",
       "    </tr>\n",
       "    <tr>\n",
       "      <th>50%</th>\n",
       "      <td>2.628700e+04</td>\n",
       "      <td>128.000000</td>\n",
       "      <td>360.000000</td>\n",
       "      <td>1.000000</td>\n",
       "      <td>0.000000</td>\n",
       "      <td>37.000000</td>\n",
       "    </tr>\n",
       "    <tr>\n",
       "      <th>75%</th>\n",
       "      <td>3.847700e+04</td>\n",
       "      <td>168.000000</td>\n",
       "      <td>360.000000</td>\n",
       "      <td>1.000000</td>\n",
       "      <td>1.000000</td>\n",
       "      <td>47.000000</td>\n",
       "    </tr>\n",
       "    <tr>\n",
       "      <th>max</th>\n",
       "      <td>1.000000e+08</td>\n",
       "      <td>700.000000</td>\n",
       "      <td>480.000000</td>\n",
       "      <td>1.000000</td>\n",
       "      <td>1.000000</td>\n",
       "      <td>55.000000</td>\n",
       "    </tr>\n",
       "  </tbody>\n",
       "</table>\n",
       "</div>"
      ],
      "text/plain": [
       "             Income  Loan_amount  Term_months  Credit_score  approval_status  \\\n",
       "count  6.150000e+02   592.000000   601.000000    565.000000       615.000000   \n",
       "mean   1.896745e+05   146.412162   342.029950      0.842478         0.487805   \n",
       "std    4.031317e+06    85.587325    65.070263      0.364615         0.500258   \n",
       "min    5.001000e+03     9.000000    12.000000      0.000000         0.000000   \n",
       "25%    1.613200e+04   100.000000   360.000000      1.000000         0.000000   \n",
       "50%    2.628700e+04   128.000000   360.000000      1.000000         0.000000   \n",
       "75%    3.847700e+04   168.000000   360.000000      1.000000         1.000000   \n",
       "max    1.000000e+08   700.000000   480.000000      1.000000         1.000000   \n",
       "\n",
       "              Age  \n",
       "count  609.000000  \n",
       "mean    38.067323  \n",
       "std     10.471628  \n",
       "min    -12.000000  \n",
       "25%     29.000000  \n",
       "50%     37.000000  \n",
       "75%     47.000000  \n",
       "max     55.000000  "
      ]
     },
     "execution_count": 65,
     "metadata": {},
     "output_type": "execute_result"
    }
   ],
   "source": [
    "df.describe()"
   ]
  },
  {
   "cell_type": "code",
   "execution_count": 66,
   "id": "52d2473a-ab47-4bf4-a2c5-fc7adf932995",
   "metadata": {},
   "outputs": [
    {
     "data": {
      "text/plain": [
       "UID                 0\n",
       "Marital_status      2\n",
       "Dependents         15\n",
       "Is_graduate         2\n",
       "Income              0\n",
       "Loan_amount        23\n",
       "Term_months        14\n",
       "Credit_score       50\n",
       "approval_status     0\n",
       "Age                 6\n",
       "Sex                13\n",
       "Purpose             0\n",
       "Hobby               0\n",
       "dtype: int64"
      ]
     },
     "execution_count": 66,
     "metadata": {},
     "output_type": "execute_result"
    }
   ],
   "source": [
    "df.isnull().sum()"
   ]
  },
  {
   "cell_type": "markdown",
   "id": "6a53538d-7204-49d7-8a14-87c665478d07",
   "metadata": {},
   "source": [
    "# Data Cleaning Process"
   ]
  },
  {
   "cell_type": "markdown",
   "id": "34a38003-6493-4fee-9e87-af3f700b527d",
   "metadata": {},
   "source": [
    "### Drop Duplicates"
   ]
  },
  {
   "cell_type": "code",
   "execution_count": 67,
   "id": "609dac8a-23a9-4228-b4b4-009d00894db6",
   "metadata": {},
   "outputs": [
    {
     "data": {
      "text/plain": [
       "1"
      ]
     },
     "execution_count": 67,
     "metadata": {},
     "output_type": "execute_result"
    }
   ],
   "source": [
    "df.duplicated().sum()"
   ]
  },
  {
   "cell_type": "code",
   "execution_count": 5,
   "id": "4802f889-4103-4476-90db-12aefb9db5bd",
   "metadata": {},
   "outputs": [
    {
     "data": {
      "text/plain": [
       "(614, 13)"
      ]
     },
     "execution_count": 5,
     "metadata": {},
     "output_type": "execute_result"
    }
   ],
   "source": [
    "df.drop_duplicates(inplace = True)\n",
    "df.shape"
   ]
  },
  {
   "cell_type": "code",
   "execution_count": 69,
   "id": "81bd824f-67cf-4516-a68a-d664bfe9b9fd",
   "metadata": {},
   "outputs": [
    {
     "data": {
      "text/plain": [
       "UID\n",
       "LP002872    3\n",
       "Name: count, dtype: int64"
      ]
     },
     "execution_count": 69,
     "metadata": {},
     "output_type": "execute_result"
    }
   ],
   "source": [
    "df['UID'].value_counts()[df['UID'].value_counts()>1]"
   ]
  },
  {
   "cell_type": "code",
   "execution_count": 6,
   "id": "fc3b4994-b073-446e-a9e1-6f628d5fe08a",
   "metadata": {},
   "outputs": [
    {
     "data": {
      "text/plain": [
       "(612, 13)"
      ]
     },
     "execution_count": 6,
     "metadata": {},
     "output_type": "execute_result"
    }
   ],
   "source": [
    "df = df.drop_duplicates(subset ='UID', keep ='first')\n",
    "df.shape"
   ]
  },
  {
   "cell_type": "markdown",
   "id": "774bda1f-92fe-41cb-844d-48c9dd166928",
   "metadata": {},
   "source": [
    "### Handling Incorrect Records"
   ]
  },
  {
   "cell_type": "code",
   "execution_count": 7,
   "id": "70c07cf6-711e-4104-8c60-73af499458e1",
   "metadata": {},
   "outputs": [
    {
     "data": {
      "text/plain": [
       "(611, 13)"
      ]
     },
     "execution_count": 7,
     "metadata": {},
     "output_type": "execute_result"
    }
   ],
   "source": [
    "df =df[(df['Age'].isna()) | (df['Age']>=0)]\n",
    "df.shape"
   ]
  },
  {
   "cell_type": "markdown",
   "id": "04eb7723-afff-4361-9f77-af92577a6967",
   "metadata": {},
   "source": [
    "### Change Data Type"
   ]
  },
  {
   "cell_type": "code",
   "execution_count": 73,
   "id": "d93fb365-b8f4-4307-8e08-36fc3a20c849",
   "metadata": {},
   "outputs": [
    {
     "data": {
      "text/plain": [
       "UID                 object\n",
       "Marital_status      object\n",
       "Dependents          object\n",
       "Is_graduate         object\n",
       "Income               int64\n",
       "Loan_amount        float64\n",
       "Term_months        float64\n",
       "Credit_score       float64\n",
       "approval_status      int64\n",
       "Age                float64\n",
       "Sex                 object\n",
       "Purpose             object\n",
       "Hobby               object\n",
       "dtype: object"
      ]
     },
     "execution_count": 73,
     "metadata": {},
     "output_type": "execute_result"
    }
   ],
   "source": [
    "df.dtypes"
   ]
  },
  {
   "cell_type": "code",
   "execution_count": 17,
   "id": "77973c22-de96-46ef-bcb9-cd3787e1abce",
   "metadata": {},
   "outputs": [
    {
     "name": "stdout",
     "output_type": "stream",
     "text": [
      "<class 'pandas.core.frame.DataFrame'>\n",
      "Index: 611 entries, 0 to 614\n",
      "Data columns (total 13 columns):\n",
      " #   Column           Non-Null Count  Dtype  \n",
      "---  ------           --------------  -----  \n",
      " 0   UID              611 non-null    object \n",
      " 1   Marital_status   611 non-null    object \n",
      " 2   Dependents       596 non-null    object \n",
      " 3   Is_graduate      610 non-null    object \n",
      " 4   Income           611 non-null    int64  \n",
      " 5   Loan_amount      611 non-null    float64\n",
      " 6   Term_months      611 non-null    float64\n",
      " 7   Credit_score     562 non-null    float64\n",
      " 8   approval_status  611 non-null    int64  \n",
      " 9   Age              611 non-null    float64\n",
      " 10  Sex              598 non-null    object \n",
      " 11  Purpose          611 non-null    object \n",
      " 12  Hobby            611 non-null    object \n",
      "dtypes: float64(4), int64(2), object(7)\n",
      "memory usage: 66.8+ KB\n"
     ]
    }
   ],
   "source": [
    "df.loc[:,'Marital_status']= df['Marital_status'].astype('category')\n",
    "df.loc[:,'Dependents']= df['Dependents'].replace('3+',3).astype(float)\n",
    "df.loc[:,'Is_graduate']= df['Is_graduate'].astype('category')\n",
    "df.loc[:,'Income']= df['Income'].astype(int)\n",
    "df.loc[:,'Credit_score']= df['Credit_score'].astype(float)\n",
    "df.info()"
   ]
  },
  {
   "cell_type": "markdown",
   "id": "cd28a2f4-8d02-48a9-bc16-fcc19e48673c",
   "metadata": {},
   "source": [
    "### Data Standardization"
   ]
  },
  {
   "cell_type": "code",
   "execution_count": 8,
   "id": "117addb0-809f-4e70-adf7-261e397d3c66",
   "metadata": {},
   "outputs": [
    {
     "data": {
      "text/plain": [
       "Marital_status\n",
       "Yes    273\n",
       "No     154\n",
       "YES    112\n",
       "NO      70\n",
       "Name: count, dtype: int64"
      ]
     },
     "execution_count": 8,
     "metadata": {},
     "output_type": "execute_result"
    }
   ],
   "source": [
    "df['Marital_status'].value_counts()"
   ]
  },
  {
   "cell_type": "code",
   "execution_count": 11,
   "id": "c622ed90-174f-4dbc-b670-9b6d576c9514",
   "metadata": {},
   "outputs": [
    {
     "data": {
      "text/plain": [
       "Marital_status\n",
       "YES    385\n",
       "NO     224\n",
       "Name: count, dtype: int64"
      ]
     },
     "execution_count": 11,
     "metadata": {},
     "output_type": "execute_result"
    }
   ],
   "source": [
    "df.loc[:,'Marital_status'] = df['Marital_status'].str.upper()\n",
    "df['Marital_status'].value_counts()"
   ]
  },
  {
   "cell_type": "code",
   "execution_count": 78,
   "id": "665f004a-b62c-4789-b27d-32daee09eeed",
   "metadata": {},
   "outputs": [
    {
     "data": {
      "text/plain": [
       "Is_graduate\n",
       "Graduate        477\n",
       "Not Graduate    133\n",
       "Name: count, dtype: int64"
      ]
     },
     "execution_count": 78,
     "metadata": {},
     "output_type": "execute_result"
    }
   ],
   "source": [
    "df['Is_graduate'].value_counts()"
   ]
  },
  {
   "cell_type": "code",
   "execution_count": 79,
   "id": "ae4f0d74-0e29-425d-a765-56359b573ed5",
   "metadata": {},
   "outputs": [
    {
     "data": {
      "text/plain": [
       "Sex\n",
       "Male      459\n",
       "Female    107\n",
       "M          18\n",
       "F          14\n",
       "Name: count, dtype: int64"
      ]
     },
     "execution_count": 79,
     "metadata": {},
     "output_type": "execute_result"
    }
   ],
   "source": [
    "df['Sex'].value_counts()"
   ]
  },
  {
   "cell_type": "code",
   "execution_count": 10,
   "id": "53fb1983-902e-4147-a86d-399b51b760e9",
   "metadata": {},
   "outputs": [
    {
     "data": {
      "text/plain": [
       "Sex\n",
       "Male      477\n",
       "Female    121\n",
       "Name: count, dtype: int64"
      ]
     },
     "execution_count": 10,
     "metadata": {},
     "output_type": "execute_result"
    }
   ],
   "source": [
    "df.loc[:,'Sex'] =df['Sex'].replace({'M' : 'Male', 'F' : 'Female'})\n",
    "df['Sex'].value_counts()"
   ]
  },
  {
   "cell_type": "markdown",
   "id": "238121ca-5eb4-488c-87a0-175808f7739e",
   "metadata": {},
   "source": [
    "### Handling Missing Values"
   ]
  },
  {
   "cell_type": "code",
   "execution_count": 81,
   "id": "e49fdc24-d18e-4cff-9952-1d7cde084ae2",
   "metadata": {},
   "outputs": [
    {
     "data": {
      "text/plain": [
       "UID                 0\n",
       "Marital_status      2\n",
       "Dependents         15\n",
       "Is_graduate         1\n",
       "Income              0\n",
       "Loan_amount        22\n",
       "Term_months        14\n",
       "Credit_score       49\n",
       "approval_status     0\n",
       "Age                 6\n",
       "Sex                13\n",
       "Purpose             0\n",
       "Hobby               0\n",
       "dtype: int64"
      ]
     },
     "execution_count": 81,
     "metadata": {},
     "output_type": "execute_result"
    }
   ],
   "source": [
    "df.isnull().sum()"
   ]
  },
  {
   "cell_type": "code",
   "execution_count": 12,
   "id": "88819274-616d-48ef-8362-85ad3044b7fe",
   "metadata": {},
   "outputs": [
    {
     "data": {
      "text/plain": [
       "UID                 0\n",
       "Marital_status      0\n",
       "Dependents         15\n",
       "Is_graduate         1\n",
       "Income              0\n",
       "Loan_amount        22\n",
       "Term_months        14\n",
       "Credit_score       49\n",
       "approval_status     0\n",
       "Age                 6\n",
       "Sex                13\n",
       "Purpose             0\n",
       "Hobby               0\n",
       "dtype: int64"
      ]
     },
     "execution_count": 12,
     "metadata": {},
     "output_type": "execute_result"
    }
   ],
   "source": [
    "df.loc[:,'Marital_status']  = df['Marital_status'].fillna(df['Marital_status'].mode()[0])\n",
    "df.isnull().sum()"
   ]
  },
  {
   "cell_type": "code",
   "execution_count": 20,
   "id": "e88177d0-a834-476c-b5e3-fad5e47221c7",
   "metadata": {},
   "outputs": [
    {
     "data": {
      "text/plain": [
       "UID                 0\n",
       "Marital_status      0\n",
       "Dependents          0\n",
       "Is_graduate         0\n",
       "Income              0\n",
       "Loan_amount         0\n",
       "Term_months         0\n",
       "Credit_score       49\n",
       "approval_status     0\n",
       "Age                 0\n",
       "Sex                 0\n",
       "Purpose             0\n",
       "Hobby               0\n",
       "dtype: int64"
      ]
     },
     "execution_count": 20,
     "metadata": {},
     "output_type": "execute_result"
    }
   ],
   "source": [
    "df.loc[:,'Is_graduate'] = df['Is_graduate'].fillna('Graduate')\n",
    "df.isnull().sum()"
   ]
  },
  {
   "cell_type": "code",
   "execution_count": 13,
   "id": "e7b93999-a7b7-4864-a0c2-78c46fa19c2d",
   "metadata": {},
   "outputs": [
    {
     "data": {
      "text/plain": [
       "UID                 0\n",
       "Marital_status      0\n",
       "Dependents         15\n",
       "Is_graduate         1\n",
       "Income              0\n",
       "Loan_amount        22\n",
       "Term_months        14\n",
       "Credit_score       49\n",
       "approval_status     0\n",
       "Age                 0\n",
       "Sex                13\n",
       "Purpose             0\n",
       "Hobby               0\n",
       "dtype: int64"
      ]
     },
     "execution_count": 13,
     "metadata": {},
     "output_type": "execute_result"
    }
   ],
   "source": [
    "df.loc[:,'Age'] = df['Age'].fillna(df['Age'].mean())\n",
    "df.isnull().sum()               "
   ]
  },
  {
   "cell_type": "code",
   "execution_count": 14,
   "id": "ff1f963c-0ec1-487e-81e0-a95538e9e5a7",
   "metadata": {},
   "outputs": [
    {
     "data": {
      "text/plain": [
       "UID                 0\n",
       "Marital_status      0\n",
       "Dependents         15\n",
       "Is_graduate         1\n",
       "Income              0\n",
       "Loan_amount         0\n",
       "Term_months        14\n",
       "Credit_score       49\n",
       "approval_status     0\n",
       "Age                 0\n",
       "Sex                13\n",
       "Purpose             0\n",
       "Hobby               0\n",
       "dtype: int64"
      ]
     },
     "execution_count": 14,
     "metadata": {},
     "output_type": "execute_result"
    }
   ],
   "source": [
    "df.loc[:,'Loan_amount'] = df['Loan_amount'].fillna(df['Loan_amount'].mean())\n",
    "df.isnull().sum()"
   ]
  },
  {
   "cell_type": "code",
   "execution_count": 15,
   "id": "0ec29c7b-790e-42e5-b901-ff94e5eed13d",
   "metadata": {},
   "outputs": [
    {
     "data": {
      "text/plain": [
       "UID                 0\n",
       "Marital_status      0\n",
       "Dependents         15\n",
       "Is_graduate         1\n",
       "Income              0\n",
       "Loan_amount         0\n",
       "Term_months         0\n",
       "Credit_score       49\n",
       "approval_status     0\n",
       "Age                 0\n",
       "Sex                13\n",
       "Purpose             0\n",
       "Hobby               0\n",
       "dtype: int64"
      ]
     },
     "execution_count": 15,
     "metadata": {},
     "output_type": "execute_result"
    }
   ],
   "source": [
    "df.loc[:,'Term_months'] = df['Term_months'].fillna(df['Term_months'].mean())\n",
    "df.isnull().sum()"
   ]
  },
  {
   "cell_type": "code",
   "execution_count": 87,
   "id": "487ea5aa-a56a-4f72-87d3-ff14cd43c3b2",
   "metadata": {},
   "outputs": [
    {
     "data": {
      "text/plain": [
       "Dependents\n",
       "0.0    344\n",
       "2.0    101\n",
       "1.0    100\n",
       "3.0     51\n",
       "Name: count, dtype: int64"
      ]
     },
     "execution_count": 87,
     "metadata": {},
     "output_type": "execute_result"
    }
   ],
   "source": [
    "df['Dependents'].value_counts()"
   ]
  },
  {
   "cell_type": "code",
   "execution_count": 18,
   "id": "0fa99cb8-13d4-452d-9a0d-9979ae485178",
   "metadata": {},
   "outputs": [
    {
     "name": "stderr",
     "output_type": "stream",
     "text": [
      "C:\\Users\\DELL\\AppData\\Local\\Temp\\ipykernel_3116\\2039490066.py:2: FutureWarning: Downcasting object dtype arrays on .fillna, .ffill, .bfill is deprecated and will change in a future version. Call result.infer_objects(copy=False) instead. To opt-in to the future behavior, set `pd.set_option('future.no_silent_downcasting', True)`\n",
      "  df.loc[:, 'Dependents'] = df['Dependents'].fillna(mod_Dependents).astype('float64')\n"
     ]
    },
    {
     "data": {
      "text/plain": [
       "UID                 0\n",
       "Marital_status      0\n",
       "Dependents          0\n",
       "Is_graduate         1\n",
       "Income              0\n",
       "Loan_amount         0\n",
       "Term_months         0\n",
       "Credit_score       49\n",
       "approval_status     0\n",
       "Age                 0\n",
       "Sex                13\n",
       "Purpose             0\n",
       "Hobby               0\n",
       "dtype: int64"
      ]
     },
     "execution_count": 18,
     "metadata": {},
     "output_type": "execute_result"
    }
   ],
   "source": [
    "mod_Dependents = df['Dependents'].mode()[0]\n",
    "df.loc[:, 'Dependents'] = df['Dependents'].fillna(mod_Dependents).astype('float64')\n",
    "df.isnull().sum()"
   ]
  },
  {
   "cell_type": "code",
   "execution_count": 92,
   "id": "9efc0fb2-6d02-437d-afbc-757b1deddfd7",
   "metadata": {},
   "outputs": [
    {
     "data": {
      "text/plain": [
       "Sex\n",
       "Male      488\n",
       "Female    123\n",
       "Name: count, dtype: int64"
      ]
     },
     "execution_count": 92,
     "metadata": {},
     "output_type": "execute_result"
    }
   ],
   "source": [
    "df['Sex'].value_counts()"
   ]
  },
  {
   "cell_type": "code",
   "execution_count": 21,
   "id": "7f43dc2c-e717-4c47-9b01-ce91aff09e93",
   "metadata": {},
   "outputs": [
    {
     "data": {
      "text/plain": [
       "UID                 0\n",
       "Marital_status      0\n",
       "Dependents          0\n",
       "Is_graduate         0\n",
       "Income              0\n",
       "Loan_amount         0\n",
       "Term_months         0\n",
       "Credit_score       49\n",
       "approval_status     0\n",
       "Age                 0\n",
       "Sex                 0\n",
       "Purpose             0\n",
       "Hobby               0\n",
       "dtype: int64"
      ]
     },
     "execution_count": 21,
     "metadata": {},
     "output_type": "execute_result"
    }
   ],
   "source": [
    "null_indices = df[df['Sex'].isna()].index\n",
    "number_nulls = len(null_indices)\n",
    "fill_navalues = np.random.choice(['Male','Female'], size =number_nulls, p= [0.796,0.204])\n",
    "\n",
    "df.loc[null_indices, 'Sex'] = fill_navalues\n",
    "df.isnull().sum()"
   ]
  },
  {
   "cell_type": "code",
   "execution_count": 90,
   "id": "fde4e213-6cac-4548-a917-167f92adb59f",
   "metadata": {},
   "outputs": [
    {
     "data": {
      "text/plain": [
       "Credit_score\n",
       "1.0    473\n",
       "0.0     89\n",
       "Name: count, dtype: int64"
      ]
     },
     "execution_count": 90,
     "metadata": {},
     "output_type": "execute_result"
    }
   ],
   "source": [
    "df['Credit_score'].value_counts()"
   ]
  },
  {
   "cell_type": "code",
   "execution_count": 22,
   "id": "d3ad2c50-f686-4a1c-8333-65fd84b7aa9e",
   "metadata": {},
   "outputs": [
    {
     "name": "stderr",
     "output_type": "stream",
     "text": [
      "C:\\Users\\DELL\\AppData\\Local\\Temp\\ipykernel_3116\\1650460420.py:5: FutureWarning: Setting an item of incompatible dtype is deprecated and will raise an error in a future version of pandas. Value '['1.0' '0.0' '0.0' '1.0' '1.0' '1.0' '1.0' '1.0' '1.0' '1.0' '0.0' '1.0'\n",
      " '1.0' '1.0' '0.0' '0.0' '1.0' '1.0' '1.0' '1.0' '0.0' '0.0' '1.0' '1.0'\n",
      " '1.0' '1.0' '1.0' '1.0' '0.0' '1.0' '1.0' '1.0' '1.0' '1.0' '1.0' '1.0'\n",
      " '0.0' '1.0' '1.0' '1.0' '1.0' '1.0' '1.0' '1.0' '1.0' '1.0' '1.0' '1.0'\n",
      " '1.0']' has dtype incompatible with float64, please explicitly cast to a compatible dtype first.\n",
      "  df.loc[null_indices, 'Credit_score'] = fill_navalues\n"
     ]
    },
    {
     "data": {
      "text/plain": [
       "UID                0\n",
       "Marital_status     0\n",
       "Dependents         0\n",
       "Is_graduate        0\n",
       "Income             0\n",
       "Loan_amount        0\n",
       "Term_months        0\n",
       "Credit_score       0\n",
       "approval_status    0\n",
       "Age                0\n",
       "Sex                0\n",
       "Purpose            0\n",
       "Hobby              0\n",
       "dtype: int64"
      ]
     },
     "execution_count": 22,
     "metadata": {},
     "output_type": "execute_result"
    }
   ],
   "source": [
    "null_indices = df[df['Credit_score'].isna()].index\n",
    "number_nulls = len(null_indices)\n",
    "fill_navalues = np.random.choice(['1.0','0.0'], size =number_nulls, p= [0.842,0.158])\n",
    "\n",
    "df.loc[null_indices, 'Credit_score'] = fill_navalues\n",
    "df.isnull().sum()"
   ]
  },
  {
   "cell_type": "markdown",
   "id": "f4ed8719-5abc-4a83-adfb-22dc2f76262f",
   "metadata": {},
   "source": [
    "### Dropping Unwanted Columns"
   ]
  },
  {
   "cell_type": "code",
   "execution_count": 23,
   "id": "70f91e99-1e53-4ab1-8150-7aee0477ff29",
   "metadata": {},
   "outputs": [],
   "source": [
    "df = df.drop(['Hobby'],axis=1)"
   ]
  },
  {
   "cell_type": "code",
   "execution_count": 24,
   "id": "74d95afe-c19e-4856-ad6d-f81ec591c198",
   "metadata": {},
   "outputs": [
    {
     "name": "stdout",
     "output_type": "stream",
     "text": [
      "<class 'pandas.core.frame.DataFrame'>\n",
      "Index: 611 entries, 0 to 614\n",
      "Data columns (total 12 columns):\n",
      " #   Column           Non-Null Count  Dtype  \n",
      "---  ------           --------------  -----  \n",
      " 0   UID              611 non-null    object \n",
      " 1   Marital_status   611 non-null    object \n",
      " 2   Dependents       611 non-null    object \n",
      " 3   Is_graduate      611 non-null    object \n",
      " 4   Income           611 non-null    int64  \n",
      " 5   Loan_amount      611 non-null    float64\n",
      " 6   Term_months      611 non-null    float64\n",
      " 7   Credit_score     611 non-null    object \n",
      " 8   approval_status  611 non-null    int64  \n",
      " 9   Age              611 non-null    float64\n",
      " 10  Sex              611 non-null    object \n",
      " 11  Purpose          611 non-null    object \n",
      "dtypes: float64(3), int64(2), object(7)\n",
      "memory usage: 78.2+ KB\n"
     ]
    }
   ],
   "source": [
    "df.info()"
   ]
  },
  {
   "cell_type": "markdown",
   "id": "4cc54509-8534-4c5f-acb3-dfce0493a1c1",
   "metadata": {},
   "source": [
    "## Export Cleaned data"
   ]
  },
  {
   "cell_type": "code",
   "execution_count": null,
   "id": "799bb0a4-f1c9-46fe-8fa6-abef25d714c8",
   "metadata": {},
   "outputs": [],
   "source": [
    "df.head()"
   ]
  },
  {
   "cell_type": "code",
   "execution_count": 100,
   "id": "ab4c1b47-af55-4c58-acee-ced39e888991",
   "metadata": {},
   "outputs": [],
   "source": [
    "df.to_csv(\"loaned_cleaned_data.csv\",index=False)"
   ]
  },
  {
   "cell_type": "markdown",
   "id": "c24ef821-92fb-4ae7-b8f2-6c584a413bbf",
   "metadata": {},
   "source": [
    "## Exploratory Data Analysis"
   ]
  },
  {
   "cell_type": "code",
   "execution_count": 25,
   "id": "203d2866-4183-4c2a-bba7-0c9da7f3d7ec",
   "metadata": {},
   "outputs": [],
   "source": [
    "import matplotlib.pyplot as plt\n",
    "import seaborn as sns"
   ]
  },
  {
   "cell_type": "code",
   "execution_count": 38,
   "id": "617de738-6123-4169-a97d-71ac93243f4b",
   "metadata": {},
   "outputs": [
    {
     "data": {
      "image/png": "[encoded data removed]",
      "text/plain": [
       "<Figure size 600x300 with 1 Axes>"
      ]
     },
     "metadata": {},
     "output_type": "display_data"
    },
    {
     "data": {
      "image/png": "[encoded data removed]",
      "text/plain": [
       "<Figure size 600x300 with 1 Axes>"
      ]
     },
     "metadata": {},
     "output_type": "display_data"
    },
    {
     "data": {
      "image/png": "[encoded data removed]",
      "text/plain": [
       "<Figure size 600x300 with 1 Axes>"
      ]
     },
     "metadata": {},
     "output_type": "display_data"
    },
    {
     "data": {
      "image/png": "[encoded data removed]",
      "text/plain": [
       "<Figure size 600x300 with 1 Axes>"
      ]
     },
     "metadata": {},
     "output_type": "display_data"
    }
   ],
   "source": [
    "numerical_cols = ['Age', 'Loan_amount', 'Credit_score', 'Term_months']\n",
    "for col in numerical_cols:\n",
    "    plt.figure(figsize=(6,3))\n",
    "    sns.histplot(df[col], kde=True)\n",
    "    plt.title(f'Distribution of {col}')\n",
    "    plt.show()"
   ]
  },
  {
   "cell_type": "code",
   "execution_count": 68,
   "id": "0c003176-3c3a-482a-acf5-94e9b4cbe671",
   "metadata": {},
   "outputs": [
    {
     "data": {
      "image/png": "[encoded data removed]",
      "text/plain": [
       "<Figure size 600x300 with 1 Axes>"
      ]
     },
     "metadata": {},
     "output_type": "display_data"
    },
    {
     "data": {
      "image/png": "[encoded data removed]",
      "text/plain": [
       "<Figure size 600x300 with 1 Axes>"
      ]
     },
     "metadata": {},
     "output_type": "display_data"
    },
    {
     "data": {
      "image/png": "[encoded data removed]",
      "text/plain": [
       "<Figure size 600x300 with 1 Axes>"
      ]
     },
     "metadata": {},
     "output_type": "display_data"
    },
    {
     "data": {
      "image/png": "[encoded data removed]",
      "text/plain": [
       "<Figure size 600x300 with 1 Axes>"
      ]
     },
     "metadata": {},
     "output_type": "display_data"
    }
   ],
   "source": [
    "categorical_cols = ['Purpose','Sex', 'Marital_status', 'Is_graduate']\n",
    "\n",
    "for col in categorical_cols:\n",
    "    plt.figure(figsize=(6,3))\n",
    "    sns.countplot(data=df, x=col,hue=col, palette='Set2', legend =False)\n",
    "    plt.title(f'Count of {col}')\n",
    "    plt.xticks(rotation=45)\n",
    "    plt.show()"
   ]
  }
 ],
 "metadata": {
  "kernelspec": {
   "display_name": "Python [conda env:base] *",
   "language": "python",
   "name": "conda-base-py"
  },
  "language_info": {
   "codemirror_mode": {
    "name": "ipython",
    "version": 3
   },
   "file_extension": ".py",
   "mimetype": "text/x-python",
   "name": "python",
   "nbconvert_exporter": "python",
   "pygments_lexer": "ipython3",
   "version": "3.12.7"
  }
 },
 "nbformat": 4,
 "nbformat_minor": 5
}
